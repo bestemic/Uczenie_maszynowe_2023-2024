{
 "cells": [
  {
   "cell_type": "markdown",
   "metadata": {},
   "source": [
    "# Exercises\n",
    "\n",
    "There are three exercises in this notebook:\n",
    "\n",
    "1. Use the cross-validation method to test the linear regression with different $\\alpha$ values, at least three.\n",
    "2. Implement a SGD method that will train the Lasso regression for 10 epochs.\n",
    "3. Extend the Fisher's classifier to work with two features. Use the class as the $y$."
   ]
  },
  {
   "cell_type": "markdown",
   "metadata": {},
   "source": [
    "## 1. Cross-validation linear regression\n",
    "\n",
    "You need to change the variable ``alpha`` to be a list of alphas. Next do a loop and finally compare the results."
   ]
  },
  {
   "cell_type": "code",
   "execution_count": 1,
   "metadata": {
    "collapsed": true
   },
   "outputs": [],
   "source": [
    "import numpy as np\n",
    "import pandas as pd\n",
    "from sklearn.linear_model import Ridge"
   ]
  },
  {
   "cell_type": "code",
   "execution_count": 2,
   "metadata": {
    "collapsed": false
   },
   "outputs": [
    {
     "data": {
      "text/html": [
       "<div>\n",
       "<style scoped>\n",
       "    .dataframe tbody tr th:only-of-type {\n",
       "        vertical-align: middle;\n",
       "    }\n",
       "\n",
       "    .dataframe tbody tr th {\n",
       "        vertical-align: top;\n",
       "    }\n",
       "\n",
       "    .dataframe thead th {\n",
       "        text-align: right;\n",
       "    }\n",
       "</style>\n",
       "<table border=\"1\" class=\"dataframe\">\n",
       "  <thead>\n",
       "    <tr style=\"text-align: right;\">\n",
       "      <th></th>\n",
       "      <th>alpha</th>\n",
       "      <th>w0 scratch</th>\n",
       "      <th>w1 scratch</th>\n",
       "      <th>w0 sklearn</th>\n",
       "      <th>w1 sklearn</th>\n",
       "    </tr>\n",
       "  </thead>\n",
       "  <tbody>\n",
       "    <tr>\n",
       "      <th>0</th>\n",
       "      <td>-1.0</td>\n",
       "      <td>26.667097</td>\n",
       "      <td>0.442962</td>\n",
       "      <td>26.667097</td>\n",
       "      <td>0.442962</td>\n",
       "    </tr>\n",
       "    <tr>\n",
       "      <th>1</th>\n",
       "      <td>-0.5</td>\n",
       "      <td>62.548230</td>\n",
       "      <td>0.239837</td>\n",
       "      <td>62.548230</td>\n",
       "      <td>0.239837</td>\n",
       "    </tr>\n",
       "    <tr>\n",
       "      <th>2</th>\n",
       "      <td>-0.1</td>\n",
       "      <td>-817.017374</td>\n",
       "      <td>5.219094</td>\n",
       "      <td>-817.017374</td>\n",
       "      <td>5.219094</td>\n",
       "    </tr>\n",
       "    <tr>\n",
       "      <th>3</th>\n",
       "      <td>0.0</td>\n",
       "      <td>-180.924018</td>\n",
       "      <td>1.618142</td>\n",
       "      <td>-180.924018</td>\n",
       "      <td>1.618142</td>\n",
       "    </tr>\n",
       "    <tr>\n",
       "      <th>4</th>\n",
       "      <td>0.1</td>\n",
       "      <td>-101.723971</td>\n",
       "      <td>1.169788</td>\n",
       "      <td>-101.723971</td>\n",
       "      <td>1.169788</td>\n",
       "    </tr>\n",
       "    <tr>\n",
       "      <th>5</th>\n",
       "      <td>0.5</td>\n",
       "      <td>-36.975220</td>\n",
       "      <td>0.803242</td>\n",
       "      <td>-36.975220</td>\n",
       "      <td>0.803242</td>\n",
       "    </tr>\n",
       "    <tr>\n",
       "      <th>6</th>\n",
       "      <td>1.0</td>\n",
       "      <td>-20.590447</td>\n",
       "      <td>0.710486</td>\n",
       "      <td>-20.590447</td>\n",
       "      <td>0.710486</td>\n",
       "    </tr>\n",
       "  </tbody>\n",
       "</table>\n",
       "</div>"
      ],
      "text/plain": [
       "   alpha  w0 scratch  w1 scratch  w0 sklearn  w1 sklearn\n",
       "0   -1.0   26.667097    0.442962   26.667097    0.442962\n",
       "1   -0.5   62.548230    0.239837   62.548230    0.239837\n",
       "2   -0.1 -817.017374    5.219094 -817.017374    5.219094\n",
       "3    0.0 -180.924018    1.618142 -180.924018    1.618142\n",
       "4    0.1 -101.723971    1.169788 -101.723971    1.169788\n",
       "5    0.5  -36.975220    0.803242  -36.975220    0.803242\n",
       "6    1.0  -20.590447    0.710486  -20.590447    0.710486"
      ]
     },
     "execution_count": 2,
     "metadata": {},
     "output_type": "execute_result"
    }
   ],
   "source": [
    "x = np.array([188, 181, 197, 168, 167, 187, 178, 194, 140, 176, 168, 192, 173, 142, 176]).reshape(-1, 1).reshape(15, 1)\n",
    "y = np.array([141, 106, 149, 59, 79, 136, 65, 136, 52, 87, 115, 140, 82, 69, 121]).reshape(-1, 1).reshape(15, 1)\n",
    "\n",
    "x = np.asmatrix(np.c_[np.ones((15, 1)), x])\n",
    "\n",
    "I = np.identity(2)\n",
    "alphas_list = [-1, -0.5, -0.1, 0, 0.1, 0.5, 1]\n",
    "\n",
    "results = []\n",
    "for alpha in alphas_list:\n",
    "    w = np.linalg.inv(x.T * x + alpha * I) * x.T * y\n",
    "    w = w.ravel()\n",
    "\n",
    "    ridge = Ridge(alpha=alpha, fit_intercept=False).fit(X=x, y=y)\n",
    "    results.append([alpha, w.item(0), w.item(1), ridge.coef_.item(0), ridge.coef_.item(1)])\n",
    "\n",
    "df = pd.DataFrame(results, columns=[\"alpha\", \"w0 scratch\", \"w1 scratch\", \"w0 sklearn\", \"w1 sklearn\"])\n",
    "df"
   ]
  },
  {
   "cell_type": "markdown",
   "metadata": {},
   "source": [
    "## 2. Implement based on the Ridge regression example, the Lasso regression.\n",
    "\n",
    "Please implement the SGD method and compare the results with the sklearn Lasso regression results. "
   ]
  },
  {
   "cell_type": "code",
   "execution_count": 3,
   "metadata": {
    "collapsed": true
   },
   "outputs": [],
   "source": [
    "def sgd(x, y, alpha, epoch):\n",
    "    rows, cols = x.shape\n",
    "    weights = np.ones(cols)\n",
    "    bias = 1\n",
    "\n",
    "    for i in range(epoch):\n",
    "        prediction = x * weights + bias\n",
    "        delta = y - prediction\n",
    "\n",
    "        gradient_weights = -2 * sum(x * delta) / (np.linalg.norm(x) ** 2)\n",
    "        gradient_bias = -(2 / y.size) * sum(delta)\n",
    "\n",
    "        weights = weights - alpha * gradient_weights\n",
    "        bias = bias - alpha * gradient_bias\n",
    "\n",
    "    return bias, weights"
   ]
  },
  {
   "cell_type": "code",
   "execution_count": 4,
   "metadata": {
    "collapsed": false,
    "scrolled": false
   },
   "outputs": [
    {
     "name": "stdout",
     "output_type": "stream",
     "text": [
      "Sklearn intercept: [-180.85790859980537] coef: [1.6177649901016677]\n",
      "SGD 10 epoch intercept: [-36.617890183861505] coef: [0.8002520152421093]\n",
      "SGD 1000 epoch intercept: [-119.3377951917765] coef: [1.2679979955681466]\n",
      "SGD 5000 epoch intercept: [-178.93760641987433] coef: [1.606848856303508]\n",
      "SGD 10000 epoch intercept: [-180.89686575615042] coef: [1.617988098170569]\n"
     ]
    }
   ],
   "source": [
    "from sklearn.linear_model import Lasso\n",
    "\n",
    "x = np.array([188, 181, 197, 168, 167, 187, 178, 194, 140, 176, 168, 192, 173, 142, 176]).reshape(-1, 1).reshape(15, 1)\n",
    "y = np.array([141, 106, 149, 59, 79, 136, 65, 136, 52, 87, 115, 140, 82, 69, 121]).reshape(-1, 1).reshape(15, 1)\n",
    "\n",
    "alpha = 0.1\n",
    "\n",
    "lasso_regression = Lasso(alpha=alpha)\n",
    "lasso_regression.fit(X=x, y=y)\n",
    "print(\"Sklearn intercept: [\" + str(lasso_regression.intercept_[0]) + \"] coef: [\" + str(lasso_regression.coef_[0]) + \"]\")\n",
    "\n",
    "sgd_result = sgd(x, y, alpha, 10)\n",
    "print(\"SGD 10 epoch intercept: [\" + str(sgd_result[0][0]) + \"] coef: [\" + str(sgd_result[1][0]) + \"]\")\n",
    "\n",
    "sgd_result = sgd(x, y, alpha, 1000)\n",
    "print(\"SGD 1000 epoch intercept: [\" + str(sgd_result[0][0]) + \"] coef: [\" + str(sgd_result[1][0]) + \"]\")\n",
    "\n",
    "sgd_result = sgd(x, y, alpha, 5000)\n",
    "print(\"SGD 5000 epoch intercept: [\" + str(sgd_result[0][0]) + \"] coef: [\" + str(sgd_result[1][0]) + \"]\")\n",
    "\n",
    "sgd_result = sgd(x, y, alpha, 10000)\n",
    "print(\"SGD 10000 epoch intercept: [\" + str(sgd_result[0][0]) + \"] coef: [\" + str(sgd_result[1][0]) + \"]\")"
   ]
  },
  {
   "cell_type": "markdown",
   "metadata": {},
   "source": [
    "## 3. Extend the Fisher's classifier\n",
    "\n",
    "Please extend the targets of the ``iris_data`` variable and use it as the $y$."
   ]
  },
  {
   "cell_type": "code",
   "execution_count": 5,
   "metadata": {
    "collapsed": false,
    "scrolled": false
   },
   "outputs": [
    {
     "data": {
      "text/html": [
       "<div>\n",
       "<style scoped>\n",
       "    .dataframe tbody tr th:only-of-type {\n",
       "        vertical-align: middle;\n",
       "    }\n",
       "\n",
       "    .dataframe tbody tr th {\n",
       "        vertical-align: top;\n",
       "    }\n",
       "\n",
       "    .dataframe thead th {\n",
       "        text-align: right;\n",
       "    }\n",
       "</style>\n",
       "<table border=\"1\" class=\"dataframe\">\n",
       "  <thead>\n",
       "    <tr style=\"text-align: right;\">\n",
       "      <th></th>\n",
       "      <th></th>\n",
       "      <th></th>\n",
       "    </tr>\n",
       "  </thead>\n",
       "  <tbody>\n",
       "    <tr>\n",
       "      <th>0</th>\n",
       "      <td>0.924785</td>\n",
       "      <td>1.051418</td>\n",
       "    </tr>\n",
       "    <tr>\n",
       "      <th>1</th>\n",
       "      <td>0.885212</td>\n",
       "      <td>1.035589</td>\n",
       "    </tr>\n",
       "    <tr>\n",
       "      <th>2</th>\n",
       "      <td>0.901042</td>\n",
       "      <td>1.019760</td>\n",
       "    </tr>\n",
       "    <tr>\n",
       "      <th>3</th>\n",
       "      <td>0.893127</td>\n",
       "      <td>1.011845</td>\n",
       "    </tr>\n",
       "    <tr>\n",
       "      <th>4</th>\n",
       "      <td>0.932700</td>\n",
       "      <td>1.043504</td>\n",
       "    </tr>\n",
       "    <tr>\n",
       "      <th>...</th>\n",
       "      <td>...</td>\n",
       "      <td>...</td>\n",
       "    </tr>\n",
       "    <tr>\n",
       "      <th>145</th>\n",
       "      <td>0.885212</td>\n",
       "      <td>1.178051</td>\n",
       "    </tr>\n",
       "    <tr>\n",
       "      <th>146</th>\n",
       "      <td>0.845640</td>\n",
       "      <td>1.146393</td>\n",
       "    </tr>\n",
       "    <tr>\n",
       "      <th>147</th>\n",
       "      <td>0.885212</td>\n",
       "      <td>1.162222</td>\n",
       "    </tr>\n",
       "    <tr>\n",
       "      <th>148</th>\n",
       "      <td>0.916871</td>\n",
       "      <td>1.138479</td>\n",
       "    </tr>\n",
       "    <tr>\n",
       "      <th>149</th>\n",
       "      <td>0.885212</td>\n",
       "      <td>1.114735</td>\n",
       "    </tr>\n",
       "  </tbody>\n",
       "</table>\n",
       "<p>150 rows × 2 columns</p>\n",
       "</div>"
      ],
      "text/plain": [
       "                       \n",
       "0    0.924785  1.051418\n",
       "1    0.885212  1.035589\n",
       "2    0.901042  1.019760\n",
       "3    0.893127  1.011845\n",
       "4    0.932700  1.043504\n",
       "..        ...       ...\n",
       "145  0.885212  1.178051\n",
       "146  0.845640  1.146393\n",
       "147  0.885212  1.162222\n",
       "148  0.916871  1.138479\n",
       "149  0.885212  1.114735\n",
       "\n",
       "[150 rows x 2 columns]"
      ]
     },
     "execution_count": 5,
     "metadata": {},
     "output_type": "execute_result"
    }
   ],
   "source": [
    "import pandas as pd\n",
    "import numpy as np\n",
    "from sklearn.datasets import load_iris\n",
    "\n",
    "iris_data = load_iris()\n",
    "iris_df = pd.DataFrame(iris_data.data, columns=iris_data.feature_names)\n",
    "iris_df['target'] = iris_data.target\n",
    "\n",
    "x = iris_df[['sepal width (cm)', 'sepal length (cm)']].values\n",
    "y = iris_df['target'].values.reshape(-1, 1)\n",
    "\n",
    "dataset_size = np.size(x)\n",
    "\n",
    "mean_x, mean_y = np.mean(x), np.mean(y)\n",
    "\n",
    "SS_xy = np.sum(y * x) - dataset_size * mean_y * mean_x\n",
    "SS_xx = np.sum(x * x) - dataset_size * mean_x * mean_x\n",
    "\n",
    "a = SS_xy / SS_xx\n",
    "b = mean_y - a * mean_x\n",
    "\n",
    "y_pred = a * x + b\n",
    "\n",
    "df = pd.DataFrame(y_pred, columns=[\"\", \"\"])\n",
    "df"
   ]
  }
 ],
 "metadata": {
  "kernelspec": {
   "display_name": "Python 3",
   "language": "python",
   "name": "python3"
  },
  "language_info": {
   "codemirror_mode": {
    "name": "ipython",
    "version": 3
   },
   "file_extension": ".py",
   "mimetype": "text/x-python",
   "name": "python",
   "nbconvert_exporter": "python",
   "pygments_lexer": "ipython3",
   "version": "3.5.3"
  }
 },
 "nbformat": 4,
 "nbformat_minor": 4
}
